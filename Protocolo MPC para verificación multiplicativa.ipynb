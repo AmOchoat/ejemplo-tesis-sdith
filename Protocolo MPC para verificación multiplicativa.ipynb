{
 "cells": [
  {
   "cell_type": "markdown",
   "id": "3d573818",
   "metadata": {},
   "source": [
    "# MPC para la verificación multiplicativa"
   ]
  },
  {
   "cell_type": "markdown",
   "id": "620cd0d3",
   "metadata": {},
   "source": [
    "En este notebook, vamos a explicar cómo funciona el protocolo que se permite verificar una tripleta multiplicativa a partir de otra. Usando el concepto de esquemas de compartición de secretos, una tripleta multiplicativa es una tripleta de \"comparticiones\" de la forma ($ [a], [b], [c] $) donde $a \\cdot b = c$.\n",
    "\n",
    "En este protocolo queremos demostrar que conocemos una tripleta multiplicativa ($ [x], [y], [z] $) a partir de otra ($ [a], [b], [c] $)."
   ]
  },
  {
   "cell_type": "markdown",
   "id": "0b6135ff",
   "metadata": {},
   "source": [
    "1. Las partes obtienen un valor aleatorio $ \\epsilon \\in \\mathbb{F} $ (proporcionado por el verificador en el paradigma MPCitH).\n",
    "\n",
    "2. Las partes calculan localmente $ [\\alpha] = \\epsilon [x] + [a] $ y $ [\\beta] = [y] + [b] $.\n",
    "\n",
    "3. Las partes transmiten $ [\\alpha] $ y $ [\\beta] $ para obtener $ \\alpha $ y $ \\beta $.\n",
    "\n",
    "4. Las partes calculan localmente:\n",
    "\n",
    "   $$\n",
    "   [\\nu] = \\epsilon [z] - [c] + \\alpha \\cdot [b] + \\beta \\cdot [a] - \\alpha \\cdot \\beta\n",
    "   $$\n",
    "\n",
    "5. Las partes transmiten $ [\\nu] $ para obtener $ \\nu $.\n",
    "\n",
    "6. Las partes aceptan si $ \\nu = 0 $ y rechazan en caso contrario.\n"
   ]
  },
  {
   "cell_type": "markdown",
   "id": "be9433ec",
   "metadata": {},
   "source": [
    "En este caso es necesario considerar que se está construyendo una prueba correcta. Es necesario considerar el caso en el cual las tripletas multiplicativas no son correctas y cómo esto puede llegar a ser cierto.\n",
    "\n",
    "Para esto, remitirse a los documentos donde se plantea el protocolo propuesto.\n",
    "\n",
    "* A Framework for Constructing Fast MPC over Arithmetic Circuits with Malicious Adversaries and an Honest-Majority (https://dl.acm.org/doi/10.1145/3133956.3133999)."
   ]
  },
  {
   "cell_type": "markdown",
   "id": "f0d88539",
   "metadata": {},
   "source": [
    "## Ejemplo"
   ]
  },
  {
   "cell_type": "code",
   "execution_count": 34,
   "id": "b3aa7beb",
   "metadata": {},
   "outputs": [
    {
     "name": "stdout",
     "output_type": "stream",
     "text": [
      "Las partes aceptan: v = 0\n"
     ]
    }
   ],
   "source": [
    "# Definir parámetros\n",
    "F = GF(7919)  # Campo finito de tamaño primo\n",
    "num_partes = 5  # Definir la cantidad de partes\n",
    "\n",
    "# Paso 1: Obtener un valor aleatorio epsilon en el campo finito\n",
    "epsilon = F.random_element()\n",
    "\n",
    "# Paso 2: Generar valores secretos x, y, a, b\n",
    "# Calcular z = x * y y c = a * b\n",
    "x = F.random_element()\n",
    "y = F.random_element()\n",
    "z = x * y\n",
    "a = F.random_element()\n",
    "b = F.random_element()\n",
    "c = a * b\n",
    "\n",
    "# Función para generar comparticiones aditivas\n",
    "def generar_comparticiones(secret, num_partes):\n",
    "    comparticiones = [F.random_element() for _ in range(num_partes - 1)]\n",
    "    suma_comparticiones = sum(comparticiones)\n",
    "    ultima_comparticion = secret - suma_comparticiones\n",
    "    comparticiones.append(ultima_comparticion)\n",
    "    return comparticiones\n",
    "\n",
    "# Función para reconstruir el secreto a partir de las comparticiones\n",
    "def reconstruir_secreto(comparticiones):\n",
    "    return sum(comparticiones)\n",
    "\n",
    "# Función para calcular comparticiones de alpha\n",
    "def calcular_comparticion_alpha(epsilon, inputs_por_parte):\n",
    "    return [epsilon * parte[0] + parte[3] for parte in inputs_por_parte]\n",
    "\n",
    "# Función para calcular comparticiones de beta\n",
    "def calcular_comparticion_beta(inputs_por_parte):\n",
    "    return [parte[1] + parte[4] for parte in inputs_por_parte]\n",
    "\n",
    "# Función para reconstruir alpha\n",
    "def reconstruir_alpha(comparticiones_alpha):\n",
    "    return sum(comparticiones_alpha)\n",
    "\n",
    "# Función para reconstruir beta\n",
    "def reconstruir_beta(comparticiones_beta):\n",
    "    return sum(comparticiones_beta)\n",
    "\n",
    "# Función para reconstruir v\n",
    "def reconstruir_v(comparticiones_v, alpha, beta):\n",
    "    v = 0\n",
    "    for i in range(len(comparticiones_v)):\n",
    "        if i == 0:\n",
    "            v += comparticiones_v[i] - alpha * beta\n",
    "        else:\n",
    "            v += comparticiones_v[i]\n",
    "    return v\n",
    "\n",
    "# Generar comparticiones aditivas para cada valor\n",
    "comparticion_x = generar_comparticiones(x, num_partes)\n",
    "comparticion_y = generar_comparticiones(y, num_partes)\n",
    "comparticion_z = generar_comparticiones(z, num_partes)\n",
    "comparticion_a = generar_comparticiones(a, num_partes)\n",
    "comparticion_b = generar_comparticiones(b, num_partes)\n",
    "comparticion_c = generar_comparticiones(c, num_partes)\n",
    "\n",
    "# Crear lista de tuplas donde cada tupla representa los inputs de cada parte\n",
    "inputs_por_parte = list(zip(comparticion_x, comparticion_y, comparticion_z, comparticion_a, comparticion_b, comparticion_c))\n",
    "\n",
    "# Paso 3: Calcular localmente [alpha] y [beta] para cada parte\n",
    "comparticion_alpha = calcular_comparticion_alpha(epsilon, inputs_por_parte)\n",
    "comparticion_beta = calcular_comparticion_beta(inputs_por_parte)\n",
    "\n",
    "# Paso 4: Transmitir [alpha] y [beta] para obtener alpha y beta\n",
    "alpha = reconstruir_alpha(comparticion_alpha)\n",
    "beta = reconstruir_beta(comparticion_beta)\n",
    "\n",
    "# Paso 5: Calcular localmente [v] para cada parte\n",
    "comparticion_v = [epsilon * parte[2] - parte[5] + alpha * parte[4] + beta * parte[3] for parte in inputs_por_parte]\n",
    "\n",
    "# Paso 6: Transmitir [v] para obtener v\n",
    "v = reconstruir_v(comparticion_v, alpha, beta)\n",
    "\n",
    "# Paso 7: Verificar si v es igual a 0\n",
    "if v == 0:\n",
    "    print(\"Las partes aceptan: v = 0\")\n",
    "else:\n",
    "    print(\"Las partes rechazan: v =\", v)"
   ]
  }
 ],
 "metadata": {
  "kernelspec": {
   "display_name": "SageMath 9.5",
   "language": "sage",
   "name": "sagemath"
  },
  "language_info": {
   "codemirror_mode": {
    "name": "ipython",
    "version": 3
   },
   "file_extension": ".py",
   "mimetype": "text/x-python",
   "name": "python",
   "nbconvert_exporter": "python",
   "pygments_lexer": "ipython3",
   "version": "3.10.12"
  }
 },
 "nbformat": 4,
 "nbformat_minor": 5
}
