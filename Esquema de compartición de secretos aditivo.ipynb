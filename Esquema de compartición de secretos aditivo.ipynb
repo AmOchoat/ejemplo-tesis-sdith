{
 "cells": [
  {
   "cell_type": "markdown",
   "id": "6a17e85d",
   "metadata": {},
   "source": [
    "# Esquema de compartición de secretos aditivo"
   ]
  },
  {
   "cell_type": "markdown",
   "id": "71dd6e2a",
   "metadata": {},
   "source": [
    "En este notebook nos vamos a centrar en el esquema de compartición de secretos aditivo.\n",
    "\n",
    "Sea \\(x\\) un elemento en un campo finito $ \\mathbb{F}_q $, donde \\(q\\) es una potencia de un número primo. En un esquema aditivo, el elemento \\(x\\) se representa como:\n",
    "\n",
    "$$ \n",
    "[x] = ([x]_1, [x]_2, \\ldots, [x]_N) \\in (\\mathbb{F}_q)^N \n",
    "$$\n",
    "\n",
    "tal que:\n",
    "\n",
    "$$ \n",
    "x = \\sum_{i=1}^{N} [x]_i \n",
    "$$\n",
    "\n",
    "Cada participante $P_i$ recibe una parte $[x]_i$. Para reconstruir el elemento $x$, los participantes suman todas sus partes (*shares*):\n",
    "\n",
    "$$ \n",
    "x = \\sum_{i=1}^{N} [x]_i \n",
    "$$\n"
   ]
  },
  {
   "cell_type": "markdown",
   "id": "f2be46c9",
   "metadata": {},
   "source": [
    "### Operaciones en el esquema de compartición de secretos aditivo\n",
    "\n",
    "- **Adición de valores compartidos**: Las partes pueden calcular la suma de dos secretos compartidos \\(x\\) y \\(y\\) sumando localmente sus respectivas partes:\n",
    "\n",
    "  $$\n",
    "  \\forall i, \\quad [x + y]_i := [x]_i + [y]_i\n",
    "  $$\n",
    "\n",
    "  Esto se denota como $$ [x + y] = [x] + [y] $$.\n",
    "\n",
    "- **Adición con una constante**: Para una constante $\\alpha$, las partes pueden calcular $ [x + \\alpha] $ localmente:\n",
    "\n",
    "  $$\n",
    "  [x + \\alpha]_i = \n",
    "  \\begin{cases}\n",
    "  [x]_1 + \\alpha, & \\text{si } i = 1 \\\\\n",
    "  [x]_i, & \\text{si } i > 1\n",
    "  \\end{cases}\n",
    "  $$\n",
    "\n",
    "  Esto se denota como $ [x + \\alpha] = [x] + \\alpha $.\n",
    "\n",
    "- **Multiplicación por una constante**: Dada una constante $\\alpha$, las partes pueden calcular $ [\\alpha \\cdot x] $ multiplicando localmente cada parte por $\\alpha$:\n",
    "\n",
    "  $$\n",
    "  \\forall i, \\quad [\\alpha \\cdot x]_i := \\alpha \\cdot [x]_i\n",
    "  $$\n",
    "\n",
    "  Esto se denota como $ [\\alpha \\cdot x] = \\alpha \\cdot [x] $.\n",
    "\n",
    "- **Evaluación de polinomios**: Para un polinomio $P(r)$ y un valor compartido $r$, las partes pueden evaluar $P(r)$ de manera local:\n",
    "\n",
    "  $$\n",
    "  \\forall i, \\quad [P(r)]_i := P_i(r) = \\sum_{j=0}^{d} [P_j]_i \\cdot r^j\n",
    "  $$\n",
    "\n",
    "  Esto se denota como $ [P(r)] = P([r]) $.\n"
   ]
  },
  {
   "cell_type": "markdown",
   "id": "b1901fe6",
   "metadata": {},
   "source": [
    "## Ejemplo de código"
   ]
  },
  {
   "cell_type": "code",
   "execution_count": 1,
   "id": "955c95dc",
   "metadata": {},
   "outputs": [
    {
     "name": "stdout",
     "output_type": "stream",
     "text": [
      "Partes generadas para el secreto x:\n",
      "Parte 1 de x: 7\n",
      "Parte 2 de x: 8\n",
      "Parte 3 de x: 5\n",
      "\n",
      "Partes generadas para el secreto y:\n",
      "Parte 1 de y: 1\n",
      "Parte 2 de y: 10\n",
      "Parte 3 de y: 1\n",
      "\n",
      "Valor reconstruido de x (suma de partes): 9\n",
      "Valor reconstruido de y (suma de partes): 1\n"
     ]
    }
   ],
   "source": [
    "# Definimos el campo finito sobre el cual realizaremos las operaciones\n",
    "# Usamos un campo finito para simplificar las operaciones, evitando números grandes\n",
    "F = GF(11)  # Campo finito con un número primo\n",
    "\n",
    "# Definimos los secretos x e y\n",
    "secret_x = F(9)  # Secreto x (puede ser cualquier valor en el campo)\n",
    "secret_y = F(12) # Secreto y (puede ser cualquier valor en el campo)\n",
    "\n",
    "# Número de participantes\n",
    "N = 3\n",
    "\n",
    "# Generamos las partes para x\n",
    "x_shares = [F.random_element() for _ in range(N - 1)]\n",
    "x_last_share = secret_x - sum(x_shares)  # La última parte se calcula para asegurar que la suma sea el secreto\n",
    "x_shares.append(x_last_share)\n",
    "\n",
    "print(\"Partes generadas para el secreto x:\")\n",
    "for i, share in enumerate(x_shares):\n",
    "    print(f\"Parte {i + 1} de x: {share}\")\n",
    "\n",
    "# Generamos las partes para y\n",
    "y_shares = [F.random_element() for _ in range(N - 1)]\n",
    "y_last_share = secret_y - sum(y_shares)  # La última parte se calcula para asegurar que la suma sea el secreto\n",
    "y_shares.append(y_last_share)\n",
    "\n",
    "print(\"\\nPartes generadas para el secreto y:\")\n",
    "for i, share in enumerate(y_shares):\n",
    "    print(f\"Parte {i + 1} de y: {share}\")\n",
    "\n",
    "# Verificamos los valores de los secretos compartidos x y y\n",
    "x = sum(x_shares)\n",
    "y = sum(y_shares)\n",
    "\n",
    "print(f\"\\nValor reconstruido de x (suma de partes): {x}\")\n",
    "print(f\"Valor reconstruido de y (suma de partes): {y}\")"
   ]
  },
  {
   "cell_type": "markdown",
   "id": "99dcf192",
   "metadata": {},
   "source": [
    "### Adición de valores compartidos"
   ]
  },
  {
   "cell_type": "code",
   "execution_count": 2,
   "id": "28ecb2d7",
   "metadata": {},
   "outputs": [
    {
     "name": "stdout",
     "output_type": "stream",
     "text": [
      "\n",
      "Partes resultantes de la suma x + y:\n",
      "Parte 1 de x + y: 8\n",
      "Parte 2 de x + y: 7\n",
      "Parte 3 de x + y: 6\n",
      "Valor de x + y (suma de partes): 10\n"
     ]
    }
   ],
   "source": [
    "# 1. Adición de valores compartidos\n",
    "# Calculamos la suma de las partes correspondientes de x y y\n",
    "sum_shares = [x_shares[i] + y_shares[i] for i in range(N)]\n",
    "print(\"\\nPartes resultantes de la suma x + y:\")\n",
    "for i, share in enumerate(sum_shares):\n",
    "    print(f\"Parte {i + 1} de x + y: {share}\")\n",
    "\n",
    "sum_value = sum(sum_shares)\n",
    "print(f\"Valor de x + y (suma de partes): {sum_value}\")"
   ]
  },
  {
   "cell_type": "markdown",
   "id": "1f8af293",
   "metadata": {},
   "source": [
    "### Adición con una constante"
   ]
  },
  {
   "cell_type": "code",
   "execution_count": 3,
   "id": "2df8fbf2",
   "metadata": {},
   "outputs": [
    {
     "name": "stdout",
     "output_type": "stream",
     "text": [
      "\n",
      "Partes resultantes de x + alpha:\n",
      "Parte 1 de x + alpha: 1\n",
      "Parte 2 de x + alpha: 8\n",
      "Parte 3 de x + alpha: 5\n",
      "Valor de x + alpha (suma de partes): 3\n"
     ]
    }
   ],
   "source": [
    "# 2. Adición con una constante\n",
    "alpha = F(5)  # Definimos una constante, por ejemplo 5\n",
    "x_plus_alpha_shares = [x_shares[i] if i > 0 else x_shares[i] + alpha for i in range(N)]\n",
    "print(\"\\nPartes resultantes de x + alpha:\")\n",
    "for i, share in enumerate(x_plus_alpha_shares):\n",
    "    print(f\"Parte {i + 1} de x + alpha: {share}\")\n",
    "\n",
    "x_plus_alpha_value = sum(x_plus_alpha_shares)\n",
    "print(f\"Valor de x + alpha (suma de partes): {x_plus_alpha_value}\")"
   ]
  },
  {
   "cell_type": "markdown",
   "id": "3106aa36",
   "metadata": {},
   "source": [
    "### Multiplicación por una constante"
   ]
  },
  {
   "cell_type": "code",
   "execution_count": 4,
   "id": "7e344e04",
   "metadata": {},
   "outputs": [
    {
     "name": "stdout",
     "output_type": "stream",
     "text": [
      "\n",
      "Partes resultantes de alpha * x:\n",
      "Parte 1 de alpha * x: 10\n",
      "Parte 2 de alpha * x: 2\n",
      "Parte 3 de alpha * x: 4\n",
      "Valor de alpha * x (suma de partes): 5\n"
     ]
    }
   ],
   "source": [
    "# 3. Multiplicación por una constante\n",
    "alpha = F(3)  # Definimos una constante, por ejemplo 3\n",
    "alpha_x_shares = [alpha * x_shares[i] for i in range(N)]\n",
    "print(\"\\nPartes resultantes de alpha * x:\")\n",
    "for i, share in enumerate(alpha_x_shares):\n",
    "    print(f\"Parte {i + 1} de alpha * x: {share}\")\n",
    "\n",
    "alpha_x_value = sum(alpha_x_shares)\n",
    "print(f\"Valor de alpha * x (suma de partes): {alpha_x_value}\")"
   ]
  },
  {
   "cell_type": "markdown",
   "id": "7414c447",
   "metadata": {},
   "source": [
    "### Evaluación de un poliniomio"
   ]
  },
  {
   "cell_type": "code",
   "execution_count": 5,
   "id": "add37da4",
   "metadata": {},
   "outputs": [
    {
     "name": "stdout",
     "output_type": "stream",
     "text": [
      "\n",
      "Polinomio P(x): 2*x^3 + 7*x^2 + 5*x + 7\n",
      "\n",
      "División de los coeficientes en partes:\n",
      "Coeficiente de x^0: 7, Partes: [8, 4, 10, 1, 6]\n",
      "Coeficiente de x^1: 5, Partes: [0, 7, 3, 8, 9]\n",
      "Coeficiente de x^2: 7, Partes: [1, 8, 7, 6, 7]\n",
      "Coeficiente de x^3: 2, Partes: [2, 0, 4, 4, 3]\n",
      "\n",
      "Verificando que las partes sumen al coeficiente original...\n",
      "Coeficiente de x^0: suma de partes = 7, valor original = 7\n",
      "Coeficiente de x^1: suma de partes = 5, valor original = 5\n",
      "Coeficiente de x^2: suma de partes = 7, valor original = 7\n",
      "Coeficiente de x^3: suma de partes = 2, valor original = 2\n",
      "\n",
      "Las partes se han dividido correctamente.\n",
      "\n",
      "Evaluación directa del polinomio P(x) en el punto r = 5: 6\n",
      "Polinomio de la parte 1: 2*x^3 + x^2 + 8\n",
      "Polinomio de la parte 2: 8*x^2 + 7*x + 4\n",
      "Polinomio de la parte 3: 4*x^3 + 7*x^2 + 3*x + 10\n",
      "Polinomio de la parte 4: 4*x^3 + 6*x^2 + 8*x + 1\n",
      "Polinomio de la parte 5: 3*x^3 + 7*x^2 + 9*x + 6\n",
      "\n",
      "Evaluación de cada polinomio de las partes en el punto r:\n",
      "Evaluación de la parte 1 en el punto r = 5: 8\n",
      "Evaluación de la parte 2 en el punto r = 5: 8\n",
      "Evaluación de la parte 3 en el punto r = 5: 7\n",
      "Evaluación de la parte 4 en el punto r = 5: 9\n",
      "Evaluación de la parte 5 en el punto r = 5: 7\n",
      "\n",
      "Evaluación reconstruida del polinomio P(x) en el punto r = 5: 6\n",
      "\n",
      "La evaluación reconstruida coincide con la evaluación directa.\n"
     ]
    }
   ],
   "source": [
    "# 4. Evaluación de un polinomio con coeficientes compartidos\n",
    "# Definimos un anillo de polinomios sobre el campo F\n",
    "R.<x> = PolynomialRing(F)\n",
    "\n",
    "# Definimos el grado del polinomio que vamos a generar\n",
    "d = 3\n",
    "\n",
    "# Creamos un polinomio aleatorio de grado d, con coeficientes en el campo finito F\n",
    "coefficients = [F.random_element() for _ in range(d + 1)]\n",
    "P = sum(coefficients[i] * x^i for i in range(d + 1))\n",
    "\n",
    "# Mostramos el polinomio generado\n",
    "print(f\"\\nPolinomio P(x): {P}\")\n",
    "\n",
    "# Definimos cuántas partes queremos dividir cada coeficiente del polinomio\n",
    "n_parts = 5\n",
    "\n",
    "# Creamos una lista para almacenar las partes de cada coeficiente\n",
    "# Vamos a dividir cada coeficiente en n_parts, usando una técnica similar a la compartición de secretos de Shamir\n",
    "shares = []\n",
    "\n",
    "for i in range(d + 1):\n",
    "    # Generamos aleatoriamente las primeras (n_parts - 1) partes en el campo F\n",
    "    partial_shares = [F.random_element() for _ in range(n_parts - 1)]\n",
    "    # Calculamos la última parte de manera que la suma de todas las partes sea igual al coeficiente original\n",
    "    last_share = coefficients[i] - sum(partial_shares)\n",
    "    # Añadimos la última parte a la lista de partes\n",
    "    partial_shares.append(last_share)\n",
    "    # Añadimos la lista de partes del coeficiente actual a la lista principal\n",
    "    shares.append(partial_shares)\n",
    "\n",
    "# Mostramos cómo se dividieron los coeficientes en partes\n",
    "print(\"\\nDivisión de los coeficientes en partes:\")\n",
    "for i in range(d + 1):\n",
    "    print(f\"Coeficiente de x^{i}: {coefficients[i]}, Partes: {shares[i]}\")\n",
    "\n",
    "# Verificamos que la suma de las partes sea igual al coeficiente original\n",
    "print(\"\\nVerificando que las partes sumen al coeficiente original...\")\n",
    "for i in range(d + 1):\n",
    "    assert sum(shares[i]) == coefficients[i], \"Error: Las partes no suman al coeficiente original\"\n",
    "    print(f\"Coeficiente de x^{i}: suma de partes = {sum(shares[i])}, valor original = {coefficients[i]}\")\n",
    "\n",
    "print(\"\\nLas partes se han dividido correctamente.\")\n",
    "\n",
    "# Evaluamos el polinomio en un punto del campo finito\n",
    "# Elegimos un punto aleatorio en el campo F para la evaluación\n",
    "r = F.random_element()\n",
    "\n",
    "# Evaluamos el polinomio directamente en el punto r\n",
    "direct_evaluation = P(r)\n",
    "print(f\"\\nEvaluación directa del polinomio P(x) en el punto r = {r}: {direct_evaluation}\")\n",
    "\n",
    "# Construimos los polinomios para cada una de las partes\n",
    "part_polynomials = []\n",
    "for j in range(n_parts):\n",
    "    part_poly = sum(shares[i][j] * x^i for i in range(d + 1))\n",
    "    part_polynomials.append(part_poly)\n",
    "    print(f\"Polinomio de la parte {j + 1}: {part_poly}\")\n",
    "\n",
    "# Evaluamos cada polinomio de las partes en el punto r\n",
    "print(\"\\nEvaluación de cada polinomio de las partes en el punto r:\")\n",
    "partial_evaluations = []\n",
    "for j in range(n_parts):\n",
    "    eval_part = part_polynomials[j](r)\n",
    "    partial_evaluations.append(eval_part)\n",
    "    print(f\"Evaluación de la parte {j + 1} en el punto r = {r}: {eval_part}\")\n",
    "\n",
    "# Sumamos las evaluaciones parciales para obtener la evaluación total\n",
    "reconstructed_evaluation = sum(partial_evaluations)\n",
    "\n",
    "# Mostramos la evaluación reconstruida a partir de las partes\n",
    "print(f\"\\nEvaluación reconstruida del polinomio P(x) en el punto r = {r}: {reconstructed_evaluation}\")\n",
    "\n",
    "# Verificamos si la evaluación directa coincide con la evaluación reconstruida\n",
    "assert direct_evaluation == reconstructed_evaluation, \"Error: La evaluación reconstruida no coincide con la evaluación directa\"\n",
    "print(\"\\nLa evaluación reconstruida coincide con la evaluación directa.\")"
   ]
  }
 ],
 "metadata": {
  "kernelspec": {
   "display_name": "SageMath 9.5",
   "language": "sage",
   "name": "sagemath"
  },
  "language_info": {
   "codemirror_mode": {
    "name": "ipython",
    "version": 3
   },
   "file_extension": ".py",
   "mimetype": "text/x-python",
   "name": "python",
   "nbconvert_exporter": "python",
   "pygments_lexer": "ipython3",
   "version": "3.10.12"
  }
 },
 "nbformat": 4,
 "nbformat_minor": 5
}
